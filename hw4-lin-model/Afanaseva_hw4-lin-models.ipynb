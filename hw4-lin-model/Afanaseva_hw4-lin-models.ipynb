{
 "cells": [
  {
   "cell_type": "markdown",
   "metadata": {},
   "source": [
    "# Алгоритмы интеллектуальной обработки больших объемов данных\n",
    "## Домашнее задание №4: Линейные модели\n"
   ]
  },
  {
   "cell_type": "markdown",
   "metadata": {},
   "source": [
    "###### <hr\\>\n",
    "**Общая информация**\n",
    "\n",
    "**Срок сдачи:** 6 декабря 2017, 06:00 <br\\>\n",
    "**Штраф за опоздание:** -2 балла после 06:00 6 декабря, -4 балла после 06:00 13 декабря, -6 баллов после 06:00 20 декабря\n",
    "\n",
    "При отправлении ДЗ указывайте фамилию в названии файла<br\\>\n",
    "\n",
    "Используйте данный Ipython Notebook при оформлении домашнего задания.\n",
    "<hr\\>"
   ]
  },
  {
   "cell_type": "code",
   "execution_count": 1,
   "metadata": {
    "collapsed": true
   },
   "outputs": [],
   "source": [
    "import pandas as pd\n",
    "import numpy as np\n",
    "import matplotlib.pyplot as plt\n",
    "from sklearn.metrics import accuracy_score\n",
    "\n",
    "%matplotlib inline\n",
    "\n",
    "plt.style.use('ggplot')\n",
    "plt.rcParams['figure.figsize'] = (12,5)"
   ]
  },
  {
   "cell_type": "markdown",
   "metadata": {},
   "source": [
    "# Определям, что вам досталось"
   ]
  },
  {
   "cell_type": "markdown",
   "metadata": {},
   "source": [
    "<center><img src='https://static1.squarespace.com/static/571a6e39b6aa608067028725/t/577988518419c2d62fb5922f/1467582555915/'></center>"
   ]
  },
  {
   "cell_type": "markdown",
   "metadata": {},
   "source": [
    "Укажите свою фамилию на русском языке в поле ниже."
   ]
  },
  {
   "cell_type": "code",
   "execution_count": 2,
   "metadata": {},
   "outputs": [
    {
     "name": "stdout",
     "output_type": "stream",
     "text": [
      "Имплементируйте обучение логистической регрессии с L2 регуляризацией с помощью метода Mini Batch Stochastic Gradient Descent (SGD)\n"
     ]
    }
   ],
   "source": [
    "USER_NAME = u\"Афанасьева\".lower()\n",
    "REGULARIZATIONS = [\"L1\", \"L2\"]\n",
    "ALGORITHM = [\"\", \"Mini Batch\"]\n",
    "\n",
    "print \"Имплементируйте обучение логистической регрессии с %s регуляризацией с помощью метода %s Stochastic Gradient Descent (SGD)\"\\\n",
    "% (\n",
    "    REGULARIZATIONS[hash(USER_NAME) % 2],\n",
    "    ALGORITHM[hash(USER_NAME[::-1]) % 2]\n",
    ")"
   ]
  },
  {
   "cell_type": "markdown",
   "metadata": {},
   "source": [
    "#### Замечания\n",
    "* В SGD градиент расчитывается по одному случайному объекту, т.е. в алгоритме надо\n",
    "    * Перемешать выборку\n",
    "    * Посчтитать градиент на одном объекте\n",
    "    * Сделать шаг спуска\n",
    "* В Mini Batch SGD - по подвыборке объектов т.е в алгоритме надо\n",
    "    * Перемешать выборку\n",
    "    * Разбить на части (примерно) одинакового размера - мини батчи\n",
    "    * Почитать градиент по мини батчам\n",
    "    * Сделать шаг спуска\n",
    "* Сделайте убывающую скорость спуска, например `alpha/n_epoch` или `alpha/n_iter` или `alpha/n_batch` или ...\n",
    "* Для отладки работы алгоритма, реализуйте возможность сохранения или вывода ошибки модели после очередной итерации/батча/эпохи.\n",
    "* Правило останова - максимальное количество эпох\n",
    "    \n",
    "Эпохой в SGD и MB-SGD называется один проход по **всем** объектам в обучающей выборке (тем или иным способом)"
   ]
  },
  {
   "cell_type": "markdown",
   "metadata": {},
   "source": [
    "### Примечание для случая L1-регуляризации:\n",
    "\n",
    "При расчете производной по функции потерь\n",
    "$$ L(w_0,w_1,\\dots) = - \\frac{1}{N}\\left[\\sum_i \\log(\\sigma(y^{(i)} g(x^{(i)}))\\right] + \\frac{1}{C}\\sum_{j=1}^{m}|w_j| $$\n",
    "могут возникнуть сомнения по поводу производной части с модулями. \n",
    "\n",
    "Вам на выбор предлагаются следующией варианты:\n",
    "* Считать субградиент $\\partial|w_j| = sign(w_j)$ (проще, но с большой вероятностью не приведет к занулению коэффициентов)\n",
    "* Метод SGD-Clipping из [статьи](https://www.aclweb.org/anthology/P/P09/P09-1054.pdf) - раздел 3.1, страница 479, правая колонка снизу (чуть сложнее, но зато должно занулять)\n",
    "* Cumulative Penalty из той же [статьи](https://www.aclweb.org/anthology/P/P09/P09-1054.pdf) - раздел 3.2"
   ]
  },
  {
   "cell_type": "markdown",
   "metadata": {},
   "source": [
    "# Реализация модели"
   ]
  },
  {
   "cell_type": "markdown",
   "metadata": {},
   "source": [
    "## Вывод правила обновления весов (1 балл)\n",
    "\n",
    "Выведите правило обновления весов на каждом шаге алгоритма. Иными словами, посчитайте производную (градиент) функции потерь с регуляризацией. Формулы надо оформлять в формате LaTeX.\n",
    "\n",
    "\n",
    "Минимизируем функцию потерь: \n",
    "$$\n",
    "h\\left(x^{(i)}, w\\right) = \\sigma(w^{T} x^{(i)} + w_0) = \\frac{1}{1 + e^{-(w^{T}x^{(i)} + w_0)}}\\\\\n",
    "$$\n",
    "$$ L(w_0,w_1,\\dots) = \n",
    "- \\sum_{i=0}^{n} \\Big(y^{(i)} \\log\\left(h\\left(x^{(i)}, w\\right)\\right)\n",
    "+  \\left(1 - y^{(i)}\\right) \\log\\left(1 - h\\left(x^{(i)}, w\\right)\\right)\\Big)\n",
    "+ \\frac{1}{C}\\sum_{j=1}^{m}\\left(w_j\\right)^2 \n",
    "$$\n",
    "Градиент функции потерь с L2 регуляризацией\n",
    "$$ \\frac{\\partial L}{\\partial w_j} = \\sum_{i=0}^{n} \\Big( \n",
    "\\frac{x_{j}}{1 + e^{w^{T}x^{(i)} + w_0}} -y^{(i)} x_{j}\n",
    "\\Big) + \\frac{2}{C}w_j  = \\sum_{i=0}^{n}  x_{j} \\Big( h\\left(x^{(i)}, w\\right)\n",
    "-y^{(i)}\n",
    "\\Big) + \\frac{2}{C}w_j $$"
   ]
  },
  {
   "cell_type": "code",
   "execution_count": 4,
   "metadata": {
    "collapsed": true
   },
   "outputs": [],
   "source": [
    "def sigmoid(z): \n",
    "    return 1./(1 + np.exp(-z))"
   ]
  },
  {
   "cell_type": "markdown",
   "metadata": {},
   "source": [
    "## Имплементация (5 баллов)"
   ]
  },
  {
   "cell_type": "code",
   "execution_count": 5,
   "metadata": {
    "collapsed": true
   },
   "outputs": [],
   "source": [
    "from sklearn.base import BaseEstimator, ClassifierMixin\n",
    "\n",
    "class MySGDClassifier(BaseEstimator, ClassifierMixin):\n",
    "    \"\"\"\n",
    "    Предполагается, что в выборке всегда 2 класса\n",
    "    \"\"\"\n",
    "    \n",
    "    def __init__(self, C=1, alpha=0.01, max_epoch=10, batch_size=10):\n",
    "        \"\"\"\n",
    "        C - коэф. регуляризации\n",
    "        alpha - скорость спуска\n",
    "        max_epoch - максимальное количество эпох\n",
    "        batch_size - размер части (мини батча)\n",
    "        \"\"\"\n",
    "        self.C = C\n",
    "        self.alpha = alpha\n",
    "        self.max_epoch = max_epoch\n",
    "        self.batch_size = batch_size\n",
    "    \n",
    "    def h (self, x_elem):\n",
    "        return sigmoid(-1 * x_elem.dot(self.w))\n",
    "        \n",
    "    def fit(self, X, y=None):\n",
    "        '''\n",
    "        Обучение модели\n",
    "        '''\n",
    "        x = np.concatenate((X, np.ones((X.shape[0],1))), axis=1) \n",
    "        self.errors = []\n",
    "        self.w = np.ones(x.shape[1])\n",
    "        \n",
    "        def grad(x, y_val):\n",
    "            return x * (self.h(x) - y_val)\n",
    "\n",
    "        def error(x, y):\n",
    "            error = 0\n",
    "            for i in range(x.shape[0]):\n",
    "                error -= np.log(self.h(x[i])) * y[i] + (1 - np.log(self.h(x[i]))) * (1 - y[i])\n",
    "            return error\n",
    "        \n",
    "        for epoch_num in range(1, self.max_epoch + 1):\n",
    "            indices = np.arange(x.shape[0])\n",
    "            np.random.shuffle(indices)\n",
    "            descending_coeff = self.alpha / epoch_num\n",
    "                        \n",
    "            for batch_num in range(0, self.batch_size):\n",
    "                curr_indices = indices[batch_num:batch_num + self.batch_size]\n",
    "                for i in curr_indices:\n",
    "                    self.w = self.w + descending_coeff * grad(x[i], y[i])\n",
    "                    for idx_w in range(self.w.shape[0]):   \n",
    "                        self.w[idx_w] -= 2.0 / self.C * descending_coeff * self.w[idx_w] # add L2 error\n",
    "            self.errors.append(error(x, y))\n",
    "        \n",
    "        return self\n",
    "        \n",
    "    def predict(self, X):\n",
    "        '''\n",
    "        Возвращение метки класса\n",
    "        '''\n",
    "        y_hat = []\n",
    "        x = np.concatenate((X, np.ones((X.shape[0],1))), axis=1)\n",
    "        for i in range(x.shape[0]):\n",
    "            if self.h(x[i]) > 0.5:\n",
    "                y_hat.append(1)\n",
    "            else:\n",
    "                y_hat.append(0)\n",
    "        \n",
    "        return y_hat\n",
    "    \n",
    "    def predict_proba(self, X):\n",
    "        '''\n",
    "        Возвращение вероятности каждого из классов\n",
    "        '''\n",
    "        y_hat_proba = []\n",
    "        x = np.concatenate((X, np.ones((X.shape[0],1))), axis=1)\n",
    "        for i in range (x.shape[0]):\n",
    "            y_hat_proba.append (self.h(x[i]))\n",
    "        \n",
    "        return y_hat_proba"
   ]
  },
  {
   "cell_type": "markdown",
   "metadata": {},
   "source": [
    "## Проверка на синтетических данных (1 балл)"
   ]
  },
  {
   "cell_type": "markdown",
   "metadata": {},
   "source": [
    "Запустите ваш алгоритм на синтетических данных. \n",
    "Выведите полученные веса и нарисуйте разделяющую границу между классами."
   ]
  },
  {
   "cell_type": "code",
   "execution_count": 6,
   "metadata": {},
   "outputs": [
    {
     "data": {
      "text/plain": [
       "<matplotlib.collections.PathCollection at 0x7f615127ffd0>"
      ]
     },
     "execution_count": 6,
     "metadata": {},
     "output_type": "execute_result"
    },
    {
     "data": {
      "image/png": "[encoded data removed]",
      "text/plain": [
       "<matplotlib.figure.Figure at 0x7f6151987610>"
      ]
     },
     "metadata": {},
     "output_type": "display_data"
    }
   ],
   "source": [
    "np.random.seed(0)\n",
    "\n",
    "C1 = np.array([[0., -0.8], [1.5, 0.8]])\n",
    "C2 = np.array([[1., -0.7], [2., 0.7]])\n",
    "gauss1 = np.dot(np.random.randn(200, 2) + np.array([5, 3]), C1)\n",
    "gauss2 = np.dot(np.random.randn(200, 2) + np.array([1.5, 0]), C2)\n",
    "\n",
    "X = np.vstack([gauss1, gauss2])\n",
    "y = np.r_[np.ones(200), np.zeros(200)]\n",
    "\n",
    "plt.scatter(X[:,0], X[:,1], c=y)"
   ]
  },
  {
   "cell_type": "code",
   "execution_count": 11,
   "metadata": {},
   "outputs": [
    {
     "data": {
      "text/plain": [
       "0.89249999999999996"
      ]
     },
     "execution_count": 11,
     "metadata": {},
     "output_type": "execute_result"
    }
   ],
   "source": [
    "model = MySGDClassifier(C=200, alpha=0.01, batch_size=100, max_epoch=300)\n",
    "model.fit(X, y)\n",
    "result = model.predict(X)\n",
    "accuracy_score(y_true=y, y_pred=result)"
   ]
  },
  {
   "cell_type": "code",
   "execution_count": 8,
   "metadata": {},
   "outputs": [
    {
     "name": "stdout",
     "output_type": "stream",
     "text": [
      "[-0.48411085  0.33757574  1.50773333]\n"
     ]
    },
    {
     "data": {
      "image/png": "[encoded data removed]",
      "text/plain": [
       "<matplotlib.figure.Figure at 0x7f614d9f8490>"
      ]
     },
     "metadata": {},
     "output_type": "display_data"
    }
   ],
   "source": [
    "## Your Code Here\n",
    "print model.w\n",
    "plt.plot ([-4,8], [(4 * model.w[0] - model.w[2]) / model.w[1], (-8* model.w[0] - model.w[2]) / model.w[1]])\n",
    "plt.scatter(X[:,0], X[:,1], c=y)\n",
    "axes = plt.gca()\n",
    "axes.set_xlim([-4,8])\n",
    "axes.set_ylim([-6,2])\n",
    "plt.show ()"
   ]
  },
  {
   "cell_type": "markdown",
   "metadata": {},
   "source": [
    "## Анализ сходимости (2 балла)"
   ]
  },
  {
   "cell_type": "markdown",
   "metadata": {},
   "source": [
    "Для следующих заданий используйте датасет ниже"
   ]
  },
  {
   "cell_type": "code",
   "execution_count": 12,
   "metadata": {
    "collapsed": true
   },
   "outputs": [],
   "source": [
    "from sklearn.datasets import make_classification"
   ]
  },
  {
   "cell_type": "code",
   "execution_count": 13,
   "metadata": {
    "collapsed": true
   },
   "outputs": [],
   "source": [
    "X, y = make_classification(n_samples=100000, n_features=10, \n",
    "                           n_informative=4, n_redundant=0, \n",
    "                           random_state=123, class_sep=1.0,\n",
    "                           n_clusters_per_class=1)"
   ]
  },
  {
   "cell_type": "markdown",
   "metadata": {},
   "source": [
    "Покажите сходимость вашего метода: изобразите графики зависимости значения функции потерь (по всей выборке) после очередной итерации/батча/эпохи (выбрать одно) для разных `alpha`."
   ]
  },
  {
   "cell_type": "code",
   "execution_count": null,
   "metadata": {},
   "outputs": [],
   "source": [
    "## Your Code Here\n",
    "for alpha in (0.01, 0.05, 0.1, 0.2):\n",
    "    model = MySGDClassifier(alpha=alpha, max_epoch=300, C=200, batch_size=10)\n",
    "    model.fit(X, y)\n",
    "    plt.plot(model.errors, label='alpha: ' + str(alpha))\n",
    "plt.ylabel('error value')\n",
    "plt.xlabel('epoch')\n",
    "plt.legend()"
   ]
  },
  {
   "cell_type": "markdown",
   "metadata": {},
   "source": [
    "## Эффект регуляризации (2 балла)\n",
    "\n",
    "Изобразите значения коэффициентов модели для каждого С из `np.logspace(3, -3, 10)` (желательно на одном и том же графике)"
   ]
  },
  {
   "cell_type": "code",
   "execution_count": null,
   "metadata": {
    "collapsed": true
   },
   "outputs": [],
   "source": [
    "## Your Code Here\n",
    "params = np.empty([10, X.shape[1]+1])\n",
    "for i, c in enumerate(np.logspace(3, -3, 10)):\n",
    "    model = MySGDClassifier(alpha=0.01, C=c, max_epoch=100)\n",
    "    model.fit(X, y)\n",
    "    params[i] = model.w"
   ]
  },
  {
   "cell_type": "code",
   "execution_count": null,
   "metadata": {
    "collapsed": true
   },
   "outputs": [],
   "source": [
    "for i in range(params.shape[1]):\n",
    "    lbl = r'w_{}'.format(i)\n",
    "    plt.plot(np.logspace(3, -3, 10), params[:, i], label=r'$w_{%d}$' % i)\n",
    "    plt.xscale('log')\n",
    "plt.legend()"
   ]
  },
  {
   "cell_type": "markdown",
   "metadata": {},
   "source": [
    "# Боевое применение"
   ]
  },
  {
   "cell_type": "markdown",
   "metadata": {},
   "source": [
    "## О hearthstone"
   ]
  },
  {
   "cell_type": "markdown",
   "metadata": {},
   "source": [
    "[Hearthstone](http://eu.battle.net/hearthstone/ru/) - карточная он-лайн игра по мотивам вселенной Warcraft.\n",
    "\n",
    "Каждый игрок играет за персонажа определенного класса и собирает колоду карт которую может разыгрывать во время игры. Для дальнейших деталей обратитесь к [wiki](https://ru.wikipedia.org/wiki/Hearthstone), посмотрите youtube или поиграйте сами (но не долго =) ).\n",
    "\n",
    "Теми или иными способами игрок может отнимать жизни у своего оппонента, таким образом цель раунда - побить другого игрока."
   ]
  },
  {
   "cell_type": "markdown",
   "metadata": {},
   "source": [
    "<center><img src='http://ps3hits.ru/wp-content/uploads/2015/08/hearthstone-game-sshot-1.jpg'></center>"
   ]
  },
  {
   "cell_type": "markdown",
   "metadata": {},
   "source": [
    "## Постановка задачи"
   ]
  },
  {
   "cell_type": "markdown",
   "metadata": {},
   "source": [
    "В рамках конференции [AAIA 17](https://fedcsis.org/2017/aaia) было запущено [соревнование](https://knowledgepit.fedcsis.org/contest/view.php?id=120) по предсказанию исхода раунда в heartstone. \n",
    "\n",
    "Используя признаки, которые описывают текущее состояние раунда необходимо предсказать **вероятность** победы игрока в этом раунде.\n",
    "\n",
    "Качество модели измеряется с помощью **ROC-AUC**"
   ]
  },
  {
   "cell_type": "markdown",
   "metadata": {},
   "source": [
    "## Данные\n",
    "\n",
    "Обучающую выборку и тестовую выборку с ответами можно скачать [отсюда](https://cloud.mail.ru/public/BEon/4Rrdqqvng)\n",
    "\n",
    "Данные содержат набор информации о раунде в некоторый момент времени: жизни игрока и оппонента, номер хода, карты на столе, карты в руке игрока, количество карт в руке оппонента и тп.<br/>\n",
    "По игроку №1 (далее просто **игрок**) помимо всего прочего известен набор карт \"в руке\".</br>\n",
    "По игроку №2 (далее просто **оппонент**) эта информация отсутствует.</br>\n",
    "\n",
    "\n",
    "В данных для обучению содержится 2 млн. игр, разбитых на 4 файла. Названия признаков говорят сами за себя.\n",
    "Целевой признак - `decision` (1 - победил игрок, 0 - победил оппонент)."
   ]
  },
  {
   "cell_type": "markdown",
   "metadata": {},
   "source": [
    "## Работа с простыми табличными данными (1 балл)\n",
    "\n",
    "По соображениям сокращения времени вычислений, проделаем основные шаги по одной части данных.\n",
    "\n",
    "Если все данные не будут помещаться вам с оперативную память, то можете использовать один из 4х файлов для обучения"
   ]
  },
  {
   "cell_type": "code",
   "execution_count": null,
   "metadata": {
    "collapsed": true
   },
   "outputs": [],
   "source": [
    "# Загрузка данных целиком\n",
    "# df_list = []\n",
    "# for chunk in range(1,5):\n",
    "#     filepath = './trainingData_tabular_chunk%d.csv' % chunk\n",
    "#     df_list.append(pd.read_csv(filepath, sep=','))\n",
    "# df_data = pd.concat(df_list)\n",
    "\n",
    "# Загрузка одной части данных\n",
    "filepath = './trainingData_tabular_chunk1.csv'\n",
    "df_data = pd.read_csv(filepath, sep=',')"
   ]
  },
  {
   "cell_type": "code",
   "execution_count": null,
   "metadata": {
    "collapsed": true
   },
   "outputs": [],
   "source": [
    "df_data.shape"
   ]
  },
  {
   "cell_type": "code",
   "execution_count": null,
   "metadata": {
    "collapsed": true
   },
   "outputs": [],
   "source": [
    "# для удобства\n",
    "df_data.columns = df_data.columns.str.replace('.', '_')\n",
    "df_data = df_data.set_index('gamestate_id')"
   ]
  },
  {
   "cell_type": "code",
   "execution_count": null,
   "metadata": {
    "collapsed": true
   },
   "outputs": [],
   "source": [
    "df_data.head().T"
   ]
  },
  {
   "cell_type": "code",
   "execution_count": null,
   "metadata": {
    "collapsed": true
   },
   "outputs": [],
   "source": [
    "# Распределение классов\n",
    "df_data.decision.mean()\n",
    "\n",
    "# Примерно поровну"
   ]
  },
  {
   "cell_type": "markdown",
   "metadata": {},
   "source": [
    "#### Задание\n",
    "\n",
    "* Определите количество уникальных карт героя у игрока и оппонента.\n",
    "* Преобразуйте категориальные переменные с помощью one-hot кодирования, добавьте к датасету и удалите прежние столбцы\n"
   ]
  },
  {
   "cell_type": "code",
   "execution_count": null,
   "metadata": {
    "collapsed": true
   },
   "outputs": [],
   "source": [
    "## Youd Code Here\n",
    "opponent_unique_cards = df_data.opponent_hero_card_id.unique()\n",
    "player_unique_cards = df_data.player_hero_card_id.unique()\n",
    "\n",
    "print \"unique opponent cards: \", len(opponent_unique_cards)\n",
    "print \"unique player cards: \", len(player_unique_cards)"
   ]
  },
  {
   "cell_type": "code",
   "execution_count": null,
   "metadata": {
    "collapsed": true
   },
   "outputs": [],
   "source": [
    "from sklearn.preprocessing import OneHotEncoder\n",
    "enc = OneHotEncoder()\n",
    "\n",
    "player_values_test = enc.fit_transform(\n",
    "    df_data.player_hero_card_id.values.reshape(-1, 1)).toarray().astype(int)\n",
    "\n",
    "opponent_values_test = OneHotEncoder().fit_transform(\n",
    "    df_data.opponent_hero_card_id.values.reshape(-1, 1)).toarray().astype(int)\n",
    "\n",
    "player_columns = [\"player_hero_card_id_\" + \"%d\" % n for n in xrange(1, player_unique_cards.shape[0] + 1)]\n",
    "opponent_columns = [\"opponent_hero_card_id_\" + \"%d\" % n for n in xrange(1, opponent_unique_cards.shape[0] + 1)]\n",
    "df_train_data = pd.concat([df_data,\n",
    "                           pd.DataFrame(player_values_test, columns=player_columns,\n",
    "                                        index=df_data.index),\n",
    "                           pd.DataFrame(opponent_values_test, columns=opponent_columns,\n",
    "                                        index=df_data.index)],\n",
    "                           axis=1)\n",
    "\n",
    "df_train_data.drop(['opponent_hero_card_id', 'player_hero_card_id'], axis=1, inplace=True)"
   ]
  },
  {
   "cell_type": "code",
   "execution_count": null,
   "metadata": {
    "collapsed": true
   },
   "outputs": [],
   "source": [
    "df_train_data.head().T"
   ]
  },
  {
   "cell_type": "markdown",
   "metadata": {},
   "source": [
    "## Обучение модели (1 балл)"
   ]
  },
  {
   "cell_type": "markdown",
   "metadata": {},
   "source": [
    "#### Задание\n",
    "\n",
    "* Получите матрицу объект признак `X` и вектор целевого признака `y`\n",
    "* Создайте Pipeline из `StandartScaller` и вашей модели\n",
    "* Обучите модель (подбирать гиперпараметры можно без фанатизма)"
   ]
  },
  {
   "cell_type": "code",
   "execution_count": null,
   "metadata": {
    "collapsed": true
   },
   "outputs": [],
   "source": [
    "## Youd Code Here\n",
    "X = df_train_data.drop ('decision', axis=1)\n",
    "y = df_train_data.decision.values\n",
    "\n",
    "#model = MySGDClassifier(alpha=0.1, max_epoch=10, C=200, batch_size=10)\n",
    "#model.fit (X, y)\n",
    "#print model.w\n",
    "from sklearn.pipeline import Pipeline\n",
    "from sklearn.preprocessing import StandardScaler\n",
    "\n",
    "sclaer = StandardScaler()\n",
    "model = MySGDClassifier(alpha=0.001, max_epoch=10, C=200, batch_size=10)\n",
    "\n",
    "scale_model = Pipeline([('scaler', scaler), ('model', model)])\n",
    "scale_model.fit(X, y)"
   ]
  },
  {
   "cell_type": "markdown",
   "metadata": {},
   "source": [
    "## Применение модели (2 балла)\n",
    "#### Задание\n",
    "* Загрузите тестовые данные\n",
    "* Подготовте их к подаче на вход в алгоритм\n",
    "* Примените модель оцените качество с помощью меры ROC-AUC\n"
   ]
  },
  {
   "cell_type": "code",
   "execution_count": null,
   "metadata": {
    "collapsed": true
   },
   "outputs": [],
   "source": [
    "## Youd Code Here\n",
    "filepath = 'testData_tabular.csv'\n",
    "df_test_data = pd.read_csv(filepath, sep=',')"
   ]
  },
  {
   "cell_type": "code",
   "execution_count": null,
   "metadata": {
    "collapsed": true
   },
   "outputs": [],
   "source": [
    "df_test_data.shape"
   ]
  },
  {
   "cell_type": "code",
   "execution_count": null,
   "metadata": {
    "collapsed": true
   },
   "outputs": [],
   "source": [
    "# для удобства\n",
    "df_test_data.columns = df_test_data.columns.str.replace('.', '_')\n",
    "df_test_data = df_test_data.set_index('gamestate_id')"
   ]
  },
  {
   "cell_type": "code",
   "execution_count": null,
   "metadata": {
    "collapsed": true
   },
   "outputs": [],
   "source": [
    "df_test_data.head().T"
   ]
  },
  {
   "cell_type": "code",
   "execution_count": null,
   "metadata": {
    "collapsed": true
   },
   "outputs": [],
   "source": [
    "opponent_unique_cards = df_test_data.opponent_hero_card_id.unique ()\n",
    "player_unique_cards = df_test_data.player_hero_card_id.unique ()\n",
    "\n",
    "enc = OneHotEncoder()\n",
    "player_values_test = enc.fit_transform(\n",
    "    df_test_data.player_hero_card_id.values.reshape(-1, 1)).toarray().astype(int)\n",
    "\n",
    "opponent_values_test = OneHotEncoder().fit_transform(\n",
    "    df_test_data.opponent_hero_card_id.values.reshape(-1, 1)).toarray().astype(int)\n",
    "\n",
    "player_columns = [\"player_hero_card_id_\" + \"%d\" % n for n in xrange(1, player_unique_cards.shape[0] + 1)]\n",
    "opponent_columns = [\"opponent_hero_card_id_\" + \"%d\" % n for n in xrange(1, opponent_unique_cards.shape[0] + 1)]\n",
    "df_test_modified_data = pd.concat([df_test_data,\n",
    "                           pd.DataFrame(player_values_test, columns=player_columns,\n",
    "                                        index=df_test_data.index),\n",
    "                           pd.DataFrame(opponent_values_test, columns=opponent_columns,\n",
    "                                        index=df_test_data.index)],\n",
    "                           axis=1)\n",
    "\n",
    "df_test_modified_data.drop(['opponent_hero_card_id', 'player_hero_card_id'], axis=1, inplace=True)"
   ]
  },
  {
   "cell_type": "code",
   "execution_count": null,
   "metadata": {
    "collapsed": true
   },
   "outputs": [],
   "source": [
    "df_test_modified_data.head().T"
   ]
  },
  {
   "cell_type": "code",
   "execution_count": null,
   "metadata": {
    "collapsed": true
   },
   "outputs": [],
   "source": [
    "X_test = df_test_modified_data.drop ('decision', axis=1)\n",
    "\n",
    "scores = model.predict_proba(X_test)\n",
    "scores"
   ]
  },
  {
   "cell_type": "code",
   "execution_count": null,
   "metadata": {
    "collapsed": true
   },
   "outputs": [],
   "source": [
    "from sklearn.metrics import roc_auc_score\n",
    "\n",
    "y_test = np.loadtxt('deprecated_testLabels.txt')\n",
    "\n",
    "print 'ROC_AUC:', roc_auc_score(y_test, scores)"
   ]
  }
 ],
 "metadata": {
  "anaconda-cloud": {},
  "kernelspec": {
   "display_name": "Python 2",
   "language": "python",
   "name": "python2"
  },
  "language_info": {
   "codemirror_mode": {
    "name": "ipython",
    "version": 2
   },
   "file_extension": ".py",
   "mimetype": "text/x-python",
   "name": "python",
   "nbconvert_exporter": "python",
   "pygments_lexer": "ipython2",
   "version": "2.7.13"
  },
  "nav_menu": {},
  "toc": {
   "colors": {
    "hover_highlight": "#DAA520",
    "navigate_num": "#000000",
    "navigate_text": "#333333",
    "running_highlight": "#FF0000",
    "selected_highlight": "#FFD700",
    "sidebar_border": "#EEEEEE",
    "wrapper_background": "#FFFFFF"
   },
   "moveMenuLeft": true,
   "nav_menu": {
    "height": "402px",
    "width": "253px"
   },
   "navigate_menu": true,
   "number_sections": false,
   "sideBar": true,
   "threshold": 4,
   "toc_cell": false,
   "toc_section_display": "block",
   "toc_window_display": true,
   "widenNotebook": false
  }
 },
 "nbformat": 4,
 "nbformat_minor": 2
}
